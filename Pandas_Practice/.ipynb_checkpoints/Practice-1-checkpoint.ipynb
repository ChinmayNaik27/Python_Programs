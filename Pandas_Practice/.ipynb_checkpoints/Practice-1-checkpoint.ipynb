{
 "cells": [
  {
   "cell_type": "code",
   "execution_count": null,
   "id": "7bd028c7",
   "metadata": {},
   "outputs": [],
   "source": [
    "import pandas as pd"
   ]
  },
  {
   "cell_type": "code",
   "execution_count": null,
   "id": "ad9dd680",
   "metadata": {},
   "outputs": [],
   "source": [
    "df=pd.read_excel(\"E:\\Python data\\datasets-df-series\\empdata.xlsx\",\"Sheet1\",parse_dates=['doj'])\n",
    "df"
   ]
  },
  {
   "cell_type": "code",
   "execution_count": null,
   "id": "059c9058",
   "metadata": {},
   "outputs": [],
   "source": [
    "df.columns"
   ]
  },
  {
   "cell_type": "code",
   "execution_count": null,
   "id": "e992c0fd",
   "metadata": {},
   "outputs": [],
   "source": [
    "df.empid"
   ]
  },
  {
   "cell_type": "code",
   "execution_count": null,
   "id": "7f668755",
   "metadata": {},
   "outputs": [],
   "source": [
    "df.sal >1000"
   ]
  },
  {
   "cell_type": "code",
   "execution_count": null,
   "id": "4d3685ed",
   "metadata": {},
   "outputs": [],
   "source": [
    "df[df.sal==df.sal.max()]"
   ]
  },
  {
   "cell_type": "code",
   "execution_count": null,
   "id": "a35e6b52",
   "metadata": {},
   "outputs": [],
   "source": [
    "df.index"
   ]
  },
  {
   "cell_type": "code",
   "execution_count": null,
   "id": "7da6048b",
   "metadata": {},
   "outputs": [],
   "source": [
    "df.set_index('empid',inplace=True)"
   ]
  },
  {
   "cell_type": "code",
   "execution_count": null,
   "id": "123fb27a",
   "metadata": {},
   "outputs": [],
   "source": [
    "df"
   ]
  },
  {
   "cell_type": "code",
   "execution_count": null,
   "id": "54c5dbf1",
   "metadata": {},
   "outputs": [],
   "source": [
    "df.loc[1002]"
   ]
  },
  {
   "cell_type": "code",
   "execution_count": null,
   "id": "736ee324",
   "metadata": {},
   "outputs": [],
   "source": [
    "df.iloc[1]"
   ]
  },
  {
   "cell_type": "code",
   "execution_count": null,
   "id": "e5ade657",
   "metadata": {},
   "outputs": [],
   "source": [
    "df[['ename','sal']]"
   ]
  },
  {
   "cell_type": "code",
   "execution_count": null,
   "id": "d014f3c5",
   "metadata": {},
   "outputs": [],
   "source": [
    "df.reset_index(inplace=True)"
   ]
  },
  {
   "cell_type": "code",
   "execution_count": null,
   "id": "93f3b8ad",
   "metadata": {},
   "outputs": [],
   "source": [
    "df['sal'].max()"
   ]
  },
  {
   "cell_type": "code",
   "execution_count": null,
   "id": "6ec05e74",
   "metadata": {},
   "outputs": [],
   "source": [
    "df[df.sal==df.sal.min()]"
   ]
  },
  {
   "cell_type": "code",
   "execution_count": null,
   "id": "c579acf5",
   "metadata": {},
   "outputs": [],
   "source": [
    "df.describe()"
   ]
  },
  {
   "cell_type": "code",
   "execution_count": null,
   "id": "46711757",
   "metadata": {},
   "outputs": [],
   "source": [
    "df.sal.mean()"
   ]
  },
  {
   "cell_type": "code",
   "execution_count": null,
   "id": "897526f5",
   "metadata": {},
   "outputs": [],
   "source": [
    "df[['empid','ename']] [df.sal>1000]"
   ]
  },
  {
   "cell_type": "code",
   "execution_count": null,
   "id": "4760c16c",
   "metadata": {},
   "outputs": [],
   "source": [
    "[df.sal>10000]"
   ]
  },
  {
   "cell_type": "code",
   "execution_count": null,
   "id": "d157742b",
   "metadata": {},
   "outputs": [],
   "source": [
    "df1=pd.read_table(\"E:/Python data/datasets-df-series/textdata.txt\",delim_whitespace=True,names=('empid','ename','sal','doj'))"
   ]
  },
  {
   "cell_type": "code",
   "execution_count": null,
   "id": "1083506f",
   "metadata": {},
   "outputs": [],
   "source": [
    "df1"
   ]
  },
  {
   "cell_type": "code",
   "execution_count": null,
   "id": "e1b6b2f7",
   "metadata": {},
   "outputs": [],
   "source": [
    "df1"
   ]
  },
  {
   "cell_type": "code",
   "execution_count": null,
   "id": "c89553ac",
   "metadata": {},
   "outputs": [],
   "source": [
    "empdata = {\"empid\": [1001, 1002, 1003, 1004, 1005, 1006],\n",
    "\"ename\": [\"Ganesh Rao\", \"Anil Kumar\", \"Gaurav Gupta\", \"Hema Chandra\", \"Laxmi Prasanna\", \"Anant Nag\"],\n",
    "\"sal\": [10000, 23000.50, 18000.33, 16500.50, 12000.75, 9999.99],\n",
    "\"doj\": [\"10-10-2000\", \"3-20-2002\", \"3-3-2002\", \"9-10-2000\", \"10-8-2000\", \"9-9-1999\"]}\n"
   ]
  },
  {
   "cell_type": "code",
   "execution_count": null,
   "id": "4150b5ef",
   "metadata": {},
   "outputs": [],
   "source": [
    "df2=pd.DataFrame(empdata)\n",
    "df2"
   ]
  },
  {
   "cell_type": "code",
   "execution_count": null,
   "id": "e4cdac71",
   "metadata": {},
   "outputs": [],
   "source": [
    "empdata1 = [(1001, 'Ganesh Rao', 10000.00, '10-10-2000'),\n",
    "(1002, 'Anil Kumar', 23000.50, '3-20-2002'),\n",
    "(1003, 'Gaurav Gupta', 18000.33, '03-03-2002'),\n",
    "(1004, 'Hema Chandra', 16500.50, '10-09-2000'),\n",
    "(1005, 'Laxmi Prasanna', 12000.75, '08-10-2000'),\n",
    "(1006, 'Anant Nag', 9999.99, '09-09-1999')]\n"
   ]
  },
  {
   "cell_type": "code",
   "execution_count": null,
   "id": "2a720197",
   "metadata": {},
   "outputs": [],
   "source": [
    "df3=pd.DataFrame(empdata1,columns=['empid','ename','sal','doj'])\n",
    "df3"
   ]
  },
  {
   "cell_type": "code",
   "execution_count": null,
   "id": "eb1fbcc5",
   "metadata": {},
   "outputs": [],
   "source": [
    "df.head()"
   ]
  },
  {
   "cell_type": "code",
   "execution_count": null,
   "id": "e0c94fcf",
   "metadata": {},
   "outputs": [],
   "source": [
    "df.tail()"
   ]
  },
  {
   "cell_type": "code",
   "execution_count": null,
   "id": "34dae03a",
   "metadata": {},
   "outputs": [],
   "source": [
    "df.head(2)"
   ]
  },
  {
   "cell_type": "code",
   "execution_count": null,
   "id": "eb2da3a3",
   "metadata": {},
   "outputs": [],
   "source": [
    "df.tail(3)"
   ]
  },
  {
   "cell_type": "code",
   "execution_count": null,
   "id": "13857257",
   "metadata": {},
   "outputs": [],
   "source": [
    "df[::-1]"
   ]
  },
  {
   "cell_type": "code",
   "execution_count": null,
   "id": "95ea4f83",
   "metadata": {},
   "outputs": [],
   "source": [
    "df[:4]"
   ]
  },
  {
   "cell_type": "code",
   "execution_count": null,
   "id": "50de8483",
   "metadata": {},
   "outputs": [],
   "source": [
    "df.loc[:,['empid']]"
   ]
  },
  {
   "cell_type": "code",
   "execution_count": null,
   "id": "1408327f",
   "metadata": {},
   "outputs": [],
   "source": [
    "df.loc[:,['empid','sal']]"
   ]
  },
  {
   "cell_type": "code",
   "execution_count": null,
   "id": "e4981ab5",
   "metadata": {},
   "outputs": [],
   "source": [
    "df.iloc[0:3,[1,3]]"
   ]
  },
  {
   "cell_type": "code",
   "execution_count": null,
   "id": "d80748c7",
   "metadata": {},
   "outputs": [],
   "source": [
    "df.loc[0:3,['empid','sal']]"
   ]
  },
  {
   "cell_type": "code",
   "execution_count": null,
   "id": "02e129a2",
   "metadata": {},
   "outputs": [],
   "source": [
    "df2\n"
   ]
  },
  {
   "cell_type": "code",
   "execution_count": null,
   "id": "08967047",
   "metadata": {},
   "outputs": [],
   "source": [
    "df3"
   ]
  },
  {
   "cell_type": "code",
   "execution_count": null,
   "id": "35a933d9",
   "metadata": {},
   "outputs": [],
   "source": [
    "df4=pd.read_excel(\"D:/demo1.xlsx\",'Sheet1')\n",
    "df4"
   ]
  },
  {
   "cell_type": "code",
   "execution_count": null,
   "id": "5806b819",
   "metadata": {},
   "outputs": [],
   "source": [
    "df4.fillna({'ename':'Null Value','sal':'0000','doj':'00-00-00 00:00:00'},inplace=True)"
   ]
  },
  {
   "cell_type": "code",
   "execution_count": null,
   "id": "a6943a35",
   "metadata": {},
   "outputs": [],
   "source": [
    "df4"
   ]
  },
  {
   "cell_type": "code",
   "execution_count": null,
   "id": "7bdfd3cd",
   "metadata": {},
   "outputs": [],
   "source": [
    "df4.sort_values(by=[\"eno\",\"sal\"],ascending=[False,True])"
   ]
  },
  {
   "cell_type": "code",
   "execution_count": null,
   "id": "ac7c94bb",
   "metadata": {},
   "outputs": [],
   "source": [
    "df\n"
   ]
  },
  {
   "cell_type": "code",
   "execution_count": null,
   "id": "99d3f0e1",
   "metadata": {},
   "outputs": [],
   "source": [
    "df.sort_values(by=['doj','sal'],ascending=[True,False])"
   ]
  },
  {
   "cell_type": "code",
   "execution_count": null,
   "id": "f63b6eff",
   "metadata": {},
   "outputs": [],
   "source": [
    "x=df['empid']\n",
    "y=df['sal']\n"
   ]
  },
  {
   "cell_type": "code",
   "execution_count": null,
   "id": "80850003",
   "metadata": {},
   "outputs": [],
   "source": [
    "import matplotlib.pyplot as plt\n",
    "plt.bar(x,y)\n",
    "plt.title(\"This is the first bar graph!!\")\n",
    "plt.xlabel(\"empid---->\")\n",
    "plt.ylabel(\"sal---->\")\n",
    "plt.show()"
   ]
  },
  {
   "cell_type": "code",
   "execution_count": null,
   "id": "dec0728f",
   "metadata": {},
   "outputs": [],
   "source": [
    "df\n"
   ]
  },
  {
   "cell_type": "code",
   "execution_count": null,
   "id": "943c1351",
   "metadata": {},
   "outputs": [],
   "source": [
    "df.loc[:,'ename']"
   ]
  },
  {
   "cell_type": "code",
   "execution_count": null,
   "id": "63d300be",
   "metadata": {},
   "outputs": [],
   "source": [
    "df.loc[:,['ename','sal']]"
   ]
  },
  {
   "cell_type": "code",
   "execution_count": null,
   "id": "376de8a9",
   "metadata": {},
   "outputs": [],
   "source": [
    "df.iloc[:,[1,2,0]]"
   ]
  },
  {
   "cell_type": "code",
   "execution_count": null,
   "id": "5da5554f",
   "metadata": {},
   "outputs": [],
   "source": [
    "df.iloc[:,[0,2]]"
   ]
  },
  {
   "cell_type": "code",
   "execution_count": null,
   "id": "481d494c",
   "metadata": {},
   "outputs": [],
   "source": [
    "df.loc[:,'doj']"
   ]
  },
  {
   "cell_type": "code",
   "execution_count": null,
   "id": "9b6c0b70",
   "metadata": {},
   "outputs": [],
   "source": [
    "df.iloc[:,[-1,-2]]"
   ]
  },
  {
   "cell_type": "code",
   "execution_count": null,
   "id": "7ac4f80c",
   "metadata": {},
   "outputs": [],
   "source": [
    "df[df.sal>12000] [['ename','sal']]"
   ]
  },
  {
   "cell_type": "code",
   "execution_count": null,
   "id": "5dd644db",
   "metadata": {},
   "outputs": [],
   "source": [
    "df[['ename','doj']] [df.sal>10000]"
   ]
  },
  {
   "cell_type": "code",
   "execution_count": null,
   "id": "b51249c1",
   "metadata": {},
   "outputs": [],
   "source": [
    "df.sort_values(by=['sal','doj'],ascending=[True,False])"
   ]
  },
  {
   "cell_type": "code",
   "execution_count": null,
   "id": "6c2b5a04",
   "metadata": {},
   "outputs": [],
   "source": [
    "ser=pd.Series(df['ename'])\n",
    "ser"
   ]
  },
  {
   "cell_type": "code",
   "execution_count": null,
   "id": "fe2a4b34",
   "metadata": {},
   "outputs": [],
   "source": [
    "ser1=pd.Series(df['sal'])\n",
    "ser1"
   ]
  },
  {
   "cell_type": "code",
   "execution_count": null,
   "id": "d176192c",
   "metadata": {},
   "outputs": [],
   "source": [
    "import pandas as pd"
   ]
  },
  {
   "cell_type": "code",
   "execution_count": 193,
   "id": "cff1a97f",
   "metadata": {},
   "outputs": [
    {
     "data": {
      "text/html": [
       "<div>\n",
       "<style scoped>\n",
       "    .dataframe tbody tr th:only-of-type {\n",
       "        vertical-align: middle;\n",
       "    }\n",
       "\n",
       "    .dataframe tbody tr th {\n",
       "        vertical-align: top;\n",
       "    }\n",
       "\n",
       "    .dataframe thead th {\n",
       "        text-align: right;\n",
       "    }\n",
       "</style>\n",
       "<table border=\"1\" class=\"dataframe\">\n",
       "  <thead>\n",
       "    <tr style=\"text-align: right;\">\n",
       "      <th></th>\n",
       "      <th>Name</th>\n",
       "      <th>Team</th>\n",
       "      <th>Number</th>\n",
       "      <th>Position</th>\n",
       "      <th>Age</th>\n",
       "      <th>Height</th>\n",
       "      <th>Weight</th>\n",
       "      <th>College</th>\n",
       "      <th>Salary</th>\n",
       "    </tr>\n",
       "  </thead>\n",
       "  <tbody>\n",
       "    <tr>\n",
       "      <th>0</th>\n",
       "      <td>Avery Bradley</td>\n",
       "      <td>Boston Celtics</td>\n",
       "      <td>0</td>\n",
       "      <td>PG</td>\n",
       "      <td>25</td>\n",
       "      <td>06-Feb</td>\n",
       "      <td>180</td>\n",
       "      <td>Texas</td>\n",
       "      <td>7730337.0</td>\n",
       "    </tr>\n",
       "    <tr>\n",
       "      <th>1</th>\n",
       "      <td>Jae Crowder</td>\n",
       "      <td>Boston Celtics</td>\n",
       "      <td>99</td>\n",
       "      <td>SF</td>\n",
       "      <td>25</td>\n",
       "      <td>06-Jun</td>\n",
       "      <td>235</td>\n",
       "      <td>Marquette</td>\n",
       "      <td>6796117.0</td>\n",
       "    </tr>\n",
       "    <tr>\n",
       "      <th>2</th>\n",
       "      <td>John Holland</td>\n",
       "      <td>Boston Celtics</td>\n",
       "      <td>30</td>\n",
       "      <td>SG</td>\n",
       "      <td>27</td>\n",
       "      <td>06-May</td>\n",
       "      <td>205</td>\n",
       "      <td>Boston University</td>\n",
       "      <td>NaN</td>\n",
       "    </tr>\n",
       "    <tr>\n",
       "      <th>3</th>\n",
       "      <td>R.J. Hunter</td>\n",
       "      <td>Boston Celtics</td>\n",
       "      <td>28</td>\n",
       "      <td>SG</td>\n",
       "      <td>22</td>\n",
       "      <td>06-May</td>\n",
       "      <td>185</td>\n",
       "      <td>Georgia State</td>\n",
       "      <td>1148640.0</td>\n",
       "    </tr>\n",
       "    <tr>\n",
       "      <th>4</th>\n",
       "      <td>Jonas Jerebko</td>\n",
       "      <td>Boston Celtics</td>\n",
       "      <td>8</td>\n",
       "      <td>PF</td>\n",
       "      <td>29</td>\n",
       "      <td>06-Oct</td>\n",
       "      <td>231</td>\n",
       "      <td>NaN</td>\n",
       "      <td>5000000.0</td>\n",
       "    </tr>\n",
       "    <tr>\n",
       "      <th>...</th>\n",
       "      <td>...</td>\n",
       "      <td>...</td>\n",
       "      <td>...</td>\n",
       "      <td>...</td>\n",
       "      <td>...</td>\n",
       "      <td>...</td>\n",
       "      <td>...</td>\n",
       "      <td>...</td>\n",
       "      <td>...</td>\n",
       "    </tr>\n",
       "    <tr>\n",
       "      <th>452</th>\n",
       "      <td>Trey Lyles</td>\n",
       "      <td>Utah Jazz</td>\n",
       "      <td>41</td>\n",
       "      <td>PF</td>\n",
       "      <td>20</td>\n",
       "      <td>06-Oct</td>\n",
       "      <td>234</td>\n",
       "      <td>Kentucky</td>\n",
       "      <td>2239800.0</td>\n",
       "    </tr>\n",
       "    <tr>\n",
       "      <th>453</th>\n",
       "      <td>Shelvin Mack</td>\n",
       "      <td>Utah Jazz</td>\n",
       "      <td>8</td>\n",
       "      <td>PG</td>\n",
       "      <td>26</td>\n",
       "      <td>06-Mar</td>\n",
       "      <td>203</td>\n",
       "      <td>Butler</td>\n",
       "      <td>2433333.0</td>\n",
       "    </tr>\n",
       "    <tr>\n",
       "      <th>454</th>\n",
       "      <td>Raul Neto</td>\n",
       "      <td>Utah Jazz</td>\n",
       "      <td>25</td>\n",
       "      <td>PG</td>\n",
       "      <td>24</td>\n",
       "      <td>06-Jan</td>\n",
       "      <td>179</td>\n",
       "      <td>NaN</td>\n",
       "      <td>900000.0</td>\n",
       "    </tr>\n",
       "    <tr>\n",
       "      <th>455</th>\n",
       "      <td>Tibor Pleiss</td>\n",
       "      <td>Utah Jazz</td>\n",
       "      <td>21</td>\n",
       "      <td>C</td>\n",
       "      <td>26</td>\n",
       "      <td>07-Mar</td>\n",
       "      <td>256</td>\n",
       "      <td>NaN</td>\n",
       "      <td>2900000.0</td>\n",
       "    </tr>\n",
       "    <tr>\n",
       "      <th>456</th>\n",
       "      <td>Jeff Withey</td>\n",
       "      <td>Utah Jazz</td>\n",
       "      <td>24</td>\n",
       "      <td>C</td>\n",
       "      <td>26</td>\n",
       "      <td>7-0</td>\n",
       "      <td>231</td>\n",
       "      <td>Kansas</td>\n",
       "      <td>947276.0</td>\n",
       "    </tr>\n",
       "  </tbody>\n",
       "</table>\n",
       "<p>457 rows × 9 columns</p>\n",
       "</div>"
      ],
      "text/plain": [
       "              Name            Team  Number Position  Age  Height  Weight  \\\n",
       "0    Avery Bradley  Boston Celtics       0       PG   25  06-Feb     180   \n",
       "1      Jae Crowder  Boston Celtics      99       SF   25  06-Jun     235   \n",
       "2     John Holland  Boston Celtics      30       SG   27  06-May     205   \n",
       "3      R.J. Hunter  Boston Celtics      28       SG   22  06-May     185   \n",
       "4    Jonas Jerebko  Boston Celtics       8       PF   29  06-Oct     231   \n",
       "..             ...             ...     ...      ...  ...     ...     ...   \n",
       "452     Trey Lyles       Utah Jazz      41       PF   20  06-Oct     234   \n",
       "453   Shelvin Mack       Utah Jazz       8       PG   26  06-Mar     203   \n",
       "454      Raul Neto       Utah Jazz      25       PG   24  06-Jan     179   \n",
       "455   Tibor Pleiss       Utah Jazz      21        C   26  07-Mar     256   \n",
       "456    Jeff Withey       Utah Jazz      24        C   26     7-0     231   \n",
       "\n",
       "               College     Salary  \n",
       "0                Texas  7730337.0  \n",
       "1            Marquette  6796117.0  \n",
       "2    Boston University        NaN  \n",
       "3        Georgia State  1148640.0  \n",
       "4                  NaN  5000000.0  \n",
       "..                 ...        ...  \n",
       "452           Kentucky  2239800.0  \n",
       "453             Butler  2433333.0  \n",
       "454                NaN   900000.0  \n",
       "455                NaN  2900000.0  \n",
       "456             Kansas   947276.0  \n",
       "\n",
       "[457 rows x 9 columns]"
      ]
     },
     "execution_count": 193,
     "metadata": {},
     "output_type": "execute_result"
    }
   ],
   "source": [
    "df5=pd.read_csv(\"E:/Python data/datasets-df-series/nba.csv\")\n",
    "df5"
   ]
  },
  {
   "cell_type": "code",
   "execution_count": 194,
   "id": "9dc07162",
   "metadata": {},
   "outputs": [
    {
     "data": {
      "text/plain": [
       "0      Avery Bradley\n",
       "1        Jae Crowder\n",
       "2       John Holland\n",
       "3        R.J. Hunter\n",
       "4      Jonas Jerebko\n",
       "           ...      \n",
       "452       Trey Lyles\n",
       "453     Shelvin Mack\n",
       "454        Raul Neto\n",
       "455     Tibor Pleiss\n",
       "456      Jeff Withey\n",
       "Name: Name, Length: 457, dtype: object"
      ]
     },
     "execution_count": 194,
     "metadata": {},
     "output_type": "execute_result"
    }
   ],
   "source": [
    "ser=pd.Series(df5['Name'])\n",
    "ser"
   ]
  },
  {
   "cell_type": "code",
   "execution_count": 197,
   "id": "50b72910",
   "metadata": {},
   "outputs": [
    {
     "data": {
      "text/plain": [
       "0      25\n",
       "1      25\n",
       "2      27\n",
       "3      22\n",
       "4      29\n",
       "       ..\n",
       "452    20\n",
       "453    26\n",
       "454    24\n",
       "455    26\n",
       "456    26\n",
       "Name: Age, Length: 457, dtype: int64"
      ]
     },
     "execution_count": 197,
     "metadata": {},
     "output_type": "execute_result"
    }
   ],
   "source": [
    "ser1=pd.Series(df5['Age'])\n",
    "ser1"
   ]
  },
  {
   "cell_type": "code",
   "execution_count": 198,
   "id": "5c5a4e23",
   "metadata": {},
   "outputs": [],
   "source": [
    "df6=pd.concat([ser,ser1],axis=1)"
   ]
  },
  {
   "cell_type": "code",
   "execution_count": 199,
   "id": "2532fb54",
   "metadata": {},
   "outputs": [
    {
     "data": {
      "text/html": [
       "<div>\n",
       "<style scoped>\n",
       "    .dataframe tbody tr th:only-of-type {\n",
       "        vertical-align: middle;\n",
       "    }\n",
       "\n",
       "    .dataframe tbody tr th {\n",
       "        vertical-align: top;\n",
       "    }\n",
       "\n",
       "    .dataframe thead th {\n",
       "        text-align: right;\n",
       "    }\n",
       "</style>\n",
       "<table border=\"1\" class=\"dataframe\">\n",
       "  <thead>\n",
       "    <tr style=\"text-align: right;\">\n",
       "      <th></th>\n",
       "      <th>Name</th>\n",
       "      <th>Age</th>\n",
       "    </tr>\n",
       "  </thead>\n",
       "  <tbody>\n",
       "    <tr>\n",
       "      <th>0</th>\n",
       "      <td>Avery Bradley</td>\n",
       "      <td>25</td>\n",
       "    </tr>\n",
       "    <tr>\n",
       "      <th>1</th>\n",
       "      <td>Jae Crowder</td>\n",
       "      <td>25</td>\n",
       "    </tr>\n",
       "    <tr>\n",
       "      <th>2</th>\n",
       "      <td>John Holland</td>\n",
       "      <td>27</td>\n",
       "    </tr>\n",
       "    <tr>\n",
       "      <th>3</th>\n",
       "      <td>R.J. Hunter</td>\n",
       "      <td>22</td>\n",
       "    </tr>\n",
       "    <tr>\n",
       "      <th>4</th>\n",
       "      <td>Jonas Jerebko</td>\n",
       "      <td>29</td>\n",
       "    </tr>\n",
       "    <tr>\n",
       "      <th>...</th>\n",
       "      <td>...</td>\n",
       "      <td>...</td>\n",
       "    </tr>\n",
       "    <tr>\n",
       "      <th>452</th>\n",
       "      <td>Trey Lyles</td>\n",
       "      <td>20</td>\n",
       "    </tr>\n",
       "    <tr>\n",
       "      <th>453</th>\n",
       "      <td>Shelvin Mack</td>\n",
       "      <td>26</td>\n",
       "    </tr>\n",
       "    <tr>\n",
       "      <th>454</th>\n",
       "      <td>Raul Neto</td>\n",
       "      <td>24</td>\n",
       "    </tr>\n",
       "    <tr>\n",
       "      <th>455</th>\n",
       "      <td>Tibor Pleiss</td>\n",
       "      <td>26</td>\n",
       "    </tr>\n",
       "    <tr>\n",
       "      <th>456</th>\n",
       "      <td>Jeff Withey</td>\n",
       "      <td>26</td>\n",
       "    </tr>\n",
       "  </tbody>\n",
       "</table>\n",
       "<p>457 rows × 2 columns</p>\n",
       "</div>"
      ],
      "text/plain": [
       "              Name  Age\n",
       "0    Avery Bradley   25\n",
       "1      Jae Crowder   25\n",
       "2     John Holland   27\n",
       "3      R.J. Hunter   22\n",
       "4    Jonas Jerebko   29\n",
       "..             ...  ...\n",
       "452     Trey Lyles   20\n",
       "453   Shelvin Mack   26\n",
       "454      Raul Neto   24\n",
       "455   Tibor Pleiss   26\n",
       "456    Jeff Withey   26\n",
       "\n",
       "[457 rows x 2 columns]"
      ]
     },
     "execution_count": 199,
     "metadata": {},
     "output_type": "execute_result"
    }
   ],
   "source": [
    "df6"
   ]
  },
  {
   "cell_type": "code",
   "execution_count": 200,
   "id": "cc91427a",
   "metadata": {},
   "outputs": [
    {
     "data": {
      "text/html": [
       "<div>\n",
       "<style scoped>\n",
       "    .dataframe tbody tr th:only-of-type {\n",
       "        vertical-align: middle;\n",
       "    }\n",
       "\n",
       "    .dataframe tbody tr th {\n",
       "        vertical-align: top;\n",
       "    }\n",
       "\n",
       "    .dataframe thead th {\n",
       "        text-align: right;\n",
       "    }\n",
       "</style>\n",
       "<table border=\"1\" class=\"dataframe\">\n",
       "  <thead>\n",
       "    <tr style=\"text-align: right;\">\n",
       "      <th></th>\n",
       "      <th>Pname</th>\n",
       "      <th>Page</th>\n",
       "    </tr>\n",
       "  </thead>\n",
       "  <tbody>\n",
       "    <tr>\n",
       "      <th>0</th>\n",
       "      <td>Avery Bradley</td>\n",
       "      <td>25</td>\n",
       "    </tr>\n",
       "    <tr>\n",
       "      <th>1</th>\n",
       "      <td>Jae Crowder</td>\n",
       "      <td>25</td>\n",
       "    </tr>\n",
       "    <tr>\n",
       "      <th>2</th>\n",
       "      <td>John Holland</td>\n",
       "      <td>27</td>\n",
       "    </tr>\n",
       "    <tr>\n",
       "      <th>3</th>\n",
       "      <td>R.J. Hunter</td>\n",
       "      <td>22</td>\n",
       "    </tr>\n",
       "    <tr>\n",
       "      <th>4</th>\n",
       "      <td>Jonas Jerebko</td>\n",
       "      <td>29</td>\n",
       "    </tr>\n",
       "    <tr>\n",
       "      <th>...</th>\n",
       "      <td>...</td>\n",
       "      <td>...</td>\n",
       "    </tr>\n",
       "    <tr>\n",
       "      <th>452</th>\n",
       "      <td>Trey Lyles</td>\n",
       "      <td>20</td>\n",
       "    </tr>\n",
       "    <tr>\n",
       "      <th>453</th>\n",
       "      <td>Shelvin Mack</td>\n",
       "      <td>26</td>\n",
       "    </tr>\n",
       "    <tr>\n",
       "      <th>454</th>\n",
       "      <td>Raul Neto</td>\n",
       "      <td>24</td>\n",
       "    </tr>\n",
       "    <tr>\n",
       "      <th>455</th>\n",
       "      <td>Tibor Pleiss</td>\n",
       "      <td>26</td>\n",
       "    </tr>\n",
       "    <tr>\n",
       "      <th>456</th>\n",
       "      <td>Jeff Withey</td>\n",
       "      <td>26</td>\n",
       "    </tr>\n",
       "  </tbody>\n",
       "</table>\n",
       "<p>457 rows × 2 columns</p>\n",
       "</div>"
      ],
      "text/plain": [
       "             Pname  Page\n",
       "0    Avery Bradley    25\n",
       "1      Jae Crowder    25\n",
       "2     John Holland    27\n",
       "3      R.J. Hunter    22\n",
       "4    Jonas Jerebko    29\n",
       "..             ...   ...\n",
       "452     Trey Lyles    20\n",
       "453   Shelvin Mack    26\n",
       "454      Raul Neto    24\n",
       "455   Tibor Pleiss    26\n",
       "456    Jeff Withey    26\n",
       "\n",
       "[457 rows x 2 columns]"
      ]
     },
     "execution_count": 200,
     "metadata": {},
     "output_type": "execute_result"
    }
   ],
   "source": [
    "df6.columns=['Pname','Page']\n",
    "df6"
   ]
  },
  {
   "cell_type": "code",
   "execution_count": 205,
   "id": "2c4a40c8",
   "metadata": {},
   "outputs": [
    {
     "data": {
      "text/html": [
       "<div>\n",
       "<style scoped>\n",
       "    .dataframe tbody tr th:only-of-type {\n",
       "        vertical-align: middle;\n",
       "    }\n",
       "\n",
       "    .dataframe tbody tr th {\n",
       "        vertical-align: top;\n",
       "    }\n",
       "\n",
       "    .dataframe thead th {\n",
       "        text-align: right;\n",
       "    }\n",
       "</style>\n",
       "<table border=\"1\" class=\"dataframe\">\n",
       "  <thead>\n",
       "    <tr style=\"text-align: right;\">\n",
       "      <th></th>\n",
       "      <th>Pname</th>\n",
       "      <th>Page</th>\n",
       "    </tr>\n",
       "  </thead>\n",
       "  <tbody>\n",
       "    <tr>\n",
       "      <th>0</th>\n",
       "      <td>Avery Bradley</td>\n",
       "      <td>25</td>\n",
       "    </tr>\n",
       "    <tr>\n",
       "      <th>1</th>\n",
       "      <td>Jae Crowder</td>\n",
       "      <td>25</td>\n",
       "    </tr>\n",
       "    <tr>\n",
       "      <th>2</th>\n",
       "      <td>John Holland</td>\n",
       "      <td>27</td>\n",
       "    </tr>\n",
       "    <tr>\n",
       "      <th>3</th>\n",
       "      <td>R.J. Hunter</td>\n",
       "      <td>22</td>\n",
       "    </tr>\n",
       "    <tr>\n",
       "      <th>4</th>\n",
       "      <td>Jonas Jerebko</td>\n",
       "      <td>29</td>\n",
       "    </tr>\n",
       "    <tr>\n",
       "      <th>...</th>\n",
       "      <td>...</td>\n",
       "      <td>...</td>\n",
       "    </tr>\n",
       "    <tr>\n",
       "      <th>452</th>\n",
       "      <td>Trey Lyles</td>\n",
       "      <td>20</td>\n",
       "    </tr>\n",
       "    <tr>\n",
       "      <th>453</th>\n",
       "      <td>Shelvin Mack</td>\n",
       "      <td>26</td>\n",
       "    </tr>\n",
       "    <tr>\n",
       "      <th>454</th>\n",
       "      <td>Raul Neto</td>\n",
       "      <td>24</td>\n",
       "    </tr>\n",
       "    <tr>\n",
       "      <th>455</th>\n",
       "      <td>Tibor Pleiss</td>\n",
       "      <td>26</td>\n",
       "    </tr>\n",
       "    <tr>\n",
       "      <th>456</th>\n",
       "      <td>Jeff Withey</td>\n",
       "      <td>26</td>\n",
       "    </tr>\n",
       "  </tbody>\n",
       "</table>\n",
       "<p>457 rows × 2 columns</p>\n",
       "</div>"
      ],
      "text/plain": [
       "             Pname  Page\n",
       "0    Avery Bradley    25\n",
       "1      Jae Crowder    25\n",
       "2     John Holland    27\n",
       "3      R.J. Hunter    22\n",
       "4    Jonas Jerebko    29\n",
       "..             ...   ...\n",
       "452     Trey Lyles    20\n",
       "453   Shelvin Mack    26\n",
       "454      Raul Neto    24\n",
       "455   Tibor Pleiss    26\n",
       "456    Jeff Withey    26\n",
       "\n",
       "[457 rows x 2 columns]"
      ]
     },
     "execution_count": 205,
     "metadata": {},
     "output_type": "execute_result"
    }
   ],
   "source": [
    "mydict={'Pname':ser,'Page':ser1}\n",
    "df7=pd.DataFrame(mydict)\n",
    "df7"
   ]
  },
  {
   "cell_type": "code",
   "execution_count": 206,
   "id": "74e654d9",
   "metadata": {},
   "outputs": [
    {
     "data": {
      "text/plain": [
       "pandas.core.series.Series"
      ]
     },
     "execution_count": 206,
     "metadata": {},
     "output_type": "execute_result"
    }
   ],
   "source": [
    "type(ser)"
   ]
  },
  {
   "cell_type": "code",
   "execution_count": 212,
   "id": "63d12c47",
   "metadata": {},
   "outputs": [],
   "source": [
    "import numpy as np\n",
    "import pandas as pd\n",
    "arr=ser.values"
   ]
  },
  {
   "cell_type": "code",
   "execution_count": 208,
   "id": "ee2ccb5c",
   "metadata": {},
   "outputs": [
    {
     "data": {
      "text/plain": [
       "array(['Avery Bradley', 'Jae Crowder', 'John Holland', 'R.J. Hunter',\n",
       "       'Jonas Jerebko', 'Amir Johnson', 'Jordan Mickey', 'Kelly Olynyk',\n",
       "       'Terry Rozier', 'Marcus Smart', 'Jared Sullinger', 'Isaiah Thomas',\n",
       "       'Evan Turner', 'James Young', 'Tyler Zeller', 'Bojan Bogdanovic',\n",
       "       'Markel Brown', 'Wayne Ellington', 'Rondae Hollis-Jefferson',\n",
       "       'Jarrett Jack', 'Sergey Karasev', 'Sean Kilpatrick',\n",
       "       'Shane Larkin', 'Brook Lopez', 'Chris McCullough', 'Willie Reed',\n",
       "       'Thomas Robinson', 'Henry Sims', 'Donald Sloan', 'Thaddeus Young',\n",
       "       'Arron Afflalo', 'Lou Amundson', 'Thanasis Antetokounmpo',\n",
       "       'Carmelo Anthony', 'Jose Calderon', 'Cleanthony Early',\n",
       "       'Langston Galloway', 'Jerian Grant', 'Robin Lopez', \"Kyle O'Quinn\",\n",
       "       'Kristaps Porzingis', 'Kevin Seraphin', 'Lance Thomas',\n",
       "       'Sasha Vujacic', 'Derrick Williams', 'Tony Wroten', 'Elton Brand',\n",
       "       'Isaiah Canaan', 'Robert Covington', 'Joel Embiid', 'Jerami Grant',\n",
       "       'Richaun Holmes', 'Carl Landry', 'Kendall Marshall',\n",
       "       'T.J. McConnell', 'Nerlens Noel', 'Jahlil Okafor', 'Ish Smith',\n",
       "       'Nik Stauskas', 'Hollis Thompson', 'Christian Wood',\n",
       "       'Bismack Biyombo', 'Bruno Caboclo', 'DeMarre Carroll',\n",
       "       'DeMar DeRozan', 'James Johnson', 'Cory Joseph', 'Kyle Lowry',\n",
       "       'Lucas Nogueira', 'Patrick Patterson', 'Norman Powell',\n",
       "       'Terrence Ross', 'Luis Scola', 'Jason Thompson',\n",
       "       'Jonas Valanciunas', 'Delon Wright', 'Leandro Barbosa',\n",
       "       'Harrison Barnes', 'Andrew Bogut', 'Ian Clark', 'Stephen Curry',\n",
       "       'Festus Ezeli', 'Draymond Green', 'Andre Iguodala',\n",
       "       'Shaun Livingston', 'Kevon Looney', 'James Michael McAdoo',\n",
       "       'Brandon Rush', 'Marreese Speights', 'Klay Thompson',\n",
       "       'Anderson Varejao', 'Cole Aldrich', 'Jeff Ayres', 'Jamal Crawford',\n",
       "       'Branden Dawson', 'Jeff Green', 'Blake Griffin', 'Wesley Johnson',\n",
       "       'DeAndre Jordan', 'Luc Richard Mbah a Moute', 'Chris Paul',\n",
       "       'Paul Pierce', 'Pablo Prigioni', 'JJ Redick', 'Austin Rivers',\n",
       "       'C.J. Wilcox', 'Brandon Bass', 'Tarik Black', 'Anthony Brown',\n",
       "       'Kobe Bryant', 'Jordan Clarkson', 'Roy Hibbert', 'Marcelo Huertas',\n",
       "       'Ryan Kelly', 'Larry Nance Jr.', 'Julius Randle',\n",
       "       \"D'Angelo Russell\", 'Robert Sacre', 'Louis Williams',\n",
       "       'Metta World Peace', 'Nick Young', 'Eric Bledsoe', 'Devin Booker',\n",
       "       'Chase Budinger', 'Tyson Chandler', 'Archie Goodwin',\n",
       "       'John Jenkins', 'Brandon Knight', 'Alex Len', 'Jon Leuer',\n",
       "       'Phil Pressey', 'Ronnie Price', 'Mirza Teletovic', 'P.J. Tucker',\n",
       "       'T.J. Warren', 'Alan Williams', 'Quincy Acy', 'James Anderson',\n",
       "       'Marco Belinelli', 'Caron Butler', 'Omri Casspi',\n",
       "       'Willie Cauley-Stein', 'Darren Collison', 'DeMarcus Cousins',\n",
       "       'Seth Curry', 'Duje Dukan', 'Rudy Gay', 'Kosta Koufos',\n",
       "       'Ben McLemore', 'Eric Moreland', 'Rajon Rondo', 'Cameron Bairstow',\n",
       "       'Aaron Brooks', 'Jimmy Butler', 'Mike Dunleavy',\n",
       "       'Cristiano Felicio', 'Pau Gasol', 'Taj Gibson', 'Justin Holiday',\n",
       "       'Doug McDermott', 'Nikola Mirotic', \"E'Twaun Moore\", 'Joakim Noah',\n",
       "       'Bobby Portis', 'Derrick Rose', 'Tony Snell',\n",
       "       'Matthew Dellavedova', 'Channing Frye', 'Kyrie Irving',\n",
       "       'LeBron James', 'Richard Jefferson', 'Dahntay Jones',\n",
       "       'James Jones', 'Sasha Kaun', 'Kevin Love', 'Jordan McRae',\n",
       "       'Timofey Mozgov', 'Iman Shumpert', 'J.R. Smith',\n",
       "       'Tristan Thompson', 'Mo Williams', 'Joel Anthony', 'Aron Baynes',\n",
       "       'Steve Blake', 'Lorenzo Brown', 'Reggie Bullock',\n",
       "       'Kentavious Caldwell-Pope', 'Spencer Dinwiddie', 'Andre Drummond',\n",
       "       'Tobias Harris', 'Darrun Hilliard', 'Reggie Jackson',\n",
       "       'Stanley Johnson', 'Jodie Meeks', 'Marcus Morris',\n",
       "       'Anthony Tolliver', 'Lavoy Allen', 'Rakeem Christmas',\n",
       "       'Monta Ellis', 'Paul George', 'George Hill', 'Jordan Hill',\n",
       "       'Solomon Hill', 'Ty Lawson', 'Ian Mahinmi', 'C.J. Miles',\n",
       "       'Glenn Robinson III', 'Rodney Stuckey', 'Myles Turner',\n",
       "       'Shayne Whittington', 'Joe Young', 'Giannis Antetokounmpo',\n",
       "       'Jerryd Bayless', 'Michael Carter-Williams', 'Jared Cunningham',\n",
       "       'Tyler Ennis', 'John Henson', 'Damien Inglis', 'O.J. Mayo',\n",
       "       'Khris Middleton', 'Greg Monroe', 'Steve Novak',\n",
       "       \"Johnny O'Bryant III\", 'Jabari Parker', 'Miles Plumlee',\n",
       "       'Greivis Vasquez', 'Rashad Vaughn', 'Justin Anderson',\n",
       "       'J.J. Barea', 'Jeremy Evans', 'Raymond Felton', 'Devin Harris',\n",
       "       'David Lee', 'Wesley Matthews', 'JaVale McGee', 'Salah Mejri',\n",
       "       'Dirk Nowitzki', 'Zaza Pachulia', 'Chandler Parsons',\n",
       "       'Dwight Powell', 'Charlie Villanueva', 'Deron Williams',\n",
       "       'Trevor Ariza', 'Michael Beasley', 'Patrick Beverley',\n",
       "       'Corey Brewer', 'Clint Capela', 'Sam Dekker', 'Andrew Goudelock',\n",
       "       'James Harden', 'Montrezl Harrell', 'Dwight Howard',\n",
       "       'Terrence Jones', 'K.J. McDaniels', 'Donatas Motiejunas',\n",
       "       'Josh Smith', 'Jason Terry', 'Jordan Adams', 'Tony Allen',\n",
       "       'Chris Andersen', 'Matt Barnes', 'Vince Carter', 'Mike Conley',\n",
       "       'Bryce Cotton', 'Jordan Farmar', 'Marc Gasol', 'JaMychal Green',\n",
       "       'P.J. Hairston', 'Jarell Martin', 'Ray McCallum', 'Xavier Munford',\n",
       "       'Zach Randolph', 'Lance Stephenson', 'Alex Stepheson',\n",
       "       'Brandan Wright', 'Alexis Ajinca', 'Ryan Anderson', 'Omer Asik',\n",
       "       'Luke Babbitt', 'Norris Cole', 'Dante Cunningham', 'Anthony Davis',\n",
       "       'Bryce Dejean-Jones', 'Toney Douglas', 'James Ennis',\n",
       "       'Tyreke Evans', 'Tim Frazier', 'Alonzo Gee', 'Eric Gordon',\n",
       "       'Jordan Hamilton', 'Jrue Holiday', 'Orlando Johnson',\n",
       "       'Kendrick Perkins', 'Quincy Pondexter', 'LaMarcus Aldridge',\n",
       "       'Kyle Anderson', 'Matt Bonner', 'Boris Diaw', 'Tim Duncan',\n",
       "       'Manu Ginobili', 'Danny Green', 'Kawhi Leonard',\n",
       "       'Boban Marjanovic', 'Kevin Martin', 'Andre Miller', 'Patty Mills',\n",
       "       'Tony Parker', 'Jonathon Simmons', 'David West', 'Kent Bazemore',\n",
       "       'Tim Hardaway Jr.', 'Kirk Hinrich', 'Al Horford', 'Kris Humphries',\n",
       "       'Kyle Korver', 'Paul Millsap', 'Mike Muscala', 'Lamar Patterson',\n",
       "       'Dennis Schroder', 'Mike Scott', 'Thabo Sefolosha',\n",
       "       'Tiago Splitter', 'Walter Tavares', 'Jeff Teague', 'Nicolas Batum',\n",
       "       'Troy Daniels', 'Jorge Gutierrez', 'Tyler Hansbrough',\n",
       "       'Aaron Harrison', 'Spencer Hawes', 'Al Jefferson',\n",
       "       'Frank Kaminsky III', 'Michael Kidd-Gilchrist', 'Jeremy Lamb',\n",
       "       'Courtney Lee', 'Jeremy Lin', 'Kemba Walker', 'Marvin Williams',\n",
       "       'Cody Zeller', 'Chris Bosh', 'Luol Deng', 'Goran Dragic',\n",
       "       'Gerald Green', 'Udonis Haslem', 'Joe Johnson', 'Tyler Johnson',\n",
       "       'Josh McRoberts', 'Josh Richardson', \"Amar'e Stoudemire\",\n",
       "       'Dwyane Wade', 'Briante Weber', 'Hassan Whiteside',\n",
       "       'Justise Winslow', 'Dorell Wright', 'Dewayne Dedmon',\n",
       "       'Evan Fournier', 'Aaron Gordon', 'Mario Hezonja', 'Ersan Ilyasova',\n",
       "       'Brandon Jennings', 'Devyn Marble', 'Shabazz Napier',\n",
       "       'Andrew Nicholson', 'Victor Oladipo', 'Elfrid Payton',\n",
       "       'Jason Smith', 'Nikola Vucevic', 'C.J. Watson', 'Alan Anderson',\n",
       "       'Bradley Beal', 'Jared Dudley', 'Jarell Eddie', 'Drew Gooden',\n",
       "       'Marcin Gortat', 'JJ Hickson', 'Nene Hilario', 'Markieff Morris',\n",
       "       'Kelly Oubre Jr.', 'Otto Porter Jr.', 'Ramon Sessions',\n",
       "       'Garrett Temple', 'Marcus Thornton', 'John Wall', 'Darrell Arthur',\n",
       "       'D.J. Augustin', 'Will Barton', 'Wilson Chandler',\n",
       "       'Kenneth Faried', 'Danilo Gallinari', 'Gary Harris',\n",
       "       'Nikola Jokic', 'Joffrey Lauvergne', 'Mike Miller',\n",
       "       'Emmanuel Mudiay', 'Jameer Nelson', 'Jusuf Nurkic',\n",
       "       'JaKarr Sampson', 'Axel Toupane', 'Nemanja Bjelica',\n",
       "       'Gorgui Dieng', 'Kevin Garnett', 'Tyus Jones', 'Zach LaVine',\n",
       "       'Shabazz Muhammad', 'Adreian Payne', 'Nikola Pekovic',\n",
       "       'Tayshaun Prince', 'Ricky Rubio', 'Damjan Rudez', 'Greg Smith',\n",
       "       'Karl-Anthony Towns', 'Andrew Wiggins', 'Steven Adams',\n",
       "       'Nick Collison', 'Kevin Durant', 'Randy Foye', 'Josh Huestis',\n",
       "       'Serge Ibaka', 'Enes Kanter', 'Mitch McGary', 'Nazr Mohammed',\n",
       "       'Anthony Morrow', 'Cameron Payne', 'Andre Roberson',\n",
       "       'Kyle Singler', 'Dion Waiters', 'Russell Westbrook',\n",
       "       'Cliff Alexander', 'Al-Farouq Aminu', 'Pat Connaughton',\n",
       "       'Allen Crabbe', 'Ed Davis', 'Maurice Harkless', 'Gerald Henderson',\n",
       "       'Chris Kaman', 'Meyers Leonard', 'Damian Lillard', 'C.J. McCollum',\n",
       "       'Luis Montero', 'Mason Plumlee', 'Brian Roberts', 'Noah Vonleh',\n",
       "       'Trevor Booker', 'Trey Burke', 'Alec Burks', 'Dante Exum',\n",
       "       'Derrick Favors', 'Rudy Gobert', 'Gordon Hayward', 'Rodney Hood',\n",
       "       'Joe Ingles', 'Chris Johnson', 'Trey Lyles', 'Shelvin Mack',\n",
       "       'Raul Neto', 'Tibor Pleiss', 'Jeff Withey'], dtype=object)"
      ]
     },
     "execution_count": 208,
     "metadata": {},
     "output_type": "execute_result"
    }
   ],
   "source": [
    "arr"
   ]
  },
  {
   "cell_type": "code",
   "execution_count": 220,
   "id": "2c32c1d7",
   "metadata": {},
   "outputs": [],
   "source": [
    "arr1=np.array([10,20,30])"
   ]
  },
  {
   "cell_type": "code",
   "execution_count": 221,
   "id": "f9fbca04",
   "metadata": {},
   "outputs": [
    {
     "data": {
      "text/plain": [
       "1"
      ]
     },
     "execution_count": 221,
     "metadata": {},
     "output_type": "execute_result"
    }
   ],
   "source": [
    "arr1\n",
    "arr1.ndim"
   ]
  },
  {
   "cell_type": "code",
   "execution_count": 222,
   "id": "828a910e",
   "metadata": {},
   "outputs": [],
   "source": [
    "ser2=pd.Series(arr1)"
   ]
  },
  {
   "cell_type": "code",
   "execution_count": null,
   "id": "880ff1cd",
   "metadata": {},
   "outputs": [],
   "source": []
  }
 ],
 "metadata": {
  "kernelspec": {
   "display_name": "Python 3 (ipykernel)",
   "language": "python",
   "name": "python3"
  },
  "language_info": {
   "codemirror_mode": {
    "name": "ipython",
    "version": 3
   },
   "file_extension": ".py",
   "mimetype": "text/x-python",
   "name": "python",
   "nbconvert_exporter": "python",
   "pygments_lexer": "ipython3",
   "version": "3.9.12"
  }
 },
 "nbformat": 4,
 "nbformat_minor": 5
}

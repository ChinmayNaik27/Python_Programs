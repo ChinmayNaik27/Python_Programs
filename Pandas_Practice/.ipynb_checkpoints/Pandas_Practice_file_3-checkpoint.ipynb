{
 "cells": [
  {
   "cell_type": "code",
   "execution_count": 1,
   "id": "1e214c8b",
   "metadata": {},
   "outputs": [],
   "source": [
    "import numpy as np"
   ]
  },
  {
   "cell_type": "code",
   "execution_count": 11,
   "id": "b028fc48",
   "metadata": {},
   "outputs": [
    {
     "data": {
      "text/plain": [
       "array([[[10, 20, 30, 40],\n",
       "        [10, 10, 20, 30]],\n",
       "\n",
       "       [[10, 20, 30, 40],\n",
       "        [10, 10, 20, 30]]])"
      ]
     },
     "execution_count": 11,
     "metadata": {},
     "output_type": "execute_result"
    }
   ],
   "source": [
    "arr=np.array([[[10,20,30,40],[10,10,20,30]],\n",
    "              [[10,20,30,40],[10,10,20,30]]])\n",
    "arr"
   ]
  },
  {
   "cell_type": "code",
   "execution_count": 16,
   "id": "132ceaf7",
   "metadata": {},
   "outputs": [
    {
     "data": {
      "text/plain": [
       "array([1.00000000e+00, 3.16227766e+02, 1.00000000e+05, 3.16227766e+07,\n",
       "       1.00000000e+10])"
      ]
     },
     "execution_count": 16,
     "metadata": {},
     "output_type": "execute_result"
    }
   ],
   "source": [
    "arr1=np.linspace(0,10,5)\n",
    "arr1\n",
    "arr2=np.logspace(0,10,5)\n",
    "arr2"
   ]
  },
  {
   "cell_type": "code",
   "execution_count": 18,
   "id": "16452fba",
   "metadata": {},
   "outputs": [
    {
     "data": {
      "text/plain": [
       "array([0, 1, 2, 3, 4, 5, 6, 7, 8, 9])"
      ]
     },
     "execution_count": 18,
     "metadata": {},
     "output_type": "execute_result"
    }
   ],
   "source": [
    "arr3=np.arange(10)\n",
    "arr3"
   ]
  },
  {
   "cell_type": "code",
   "execution_count": 24,
   "id": "26b4a486",
   "metadata": {},
   "outputs": [
    {
     "data": {
      "text/plain": [
       "array([[1., 0., 0., 0., 0.],\n",
       "       [0., 1., 0., 0., 0.],\n",
       "       [0., 0., 1., 0., 0.],\n",
       "       [0., 0., 0., 1., 0.],\n",
       "       [0., 0., 0., 0., 1.]])"
      ]
     },
     "execution_count": 24,
     "metadata": {},
     "output_type": "execute_result"
    }
   ],
   "source": [
    "arr4=np.zeros((5,5),int)\n",
    "arr4\n",
    "np.eye(5)"
   ]
  },
  {
   "cell_type": "code",
   "execution_count": 26,
   "id": "d4c6771d",
   "metadata": {},
   "outputs": [
    {
     "data": {
      "text/plain": [
       "array([1, 1, 1, 1, 1, 1, 1, 1, 1, 1])"
      ]
     },
     "execution_count": 26,
     "metadata": {},
     "output_type": "execute_result"
    }
   ],
   "source": [
    "np.ones(10,int)"
   ]
  },
  {
   "cell_type": "code",
   "execution_count": 37,
   "id": "186d0e38",
   "metadata": {},
   "outputs": [
    {
     "data": {
      "text/plain": [
       "285212672"
      ]
     },
     "execution_count": 37,
     "metadata": {},
     "output_type": "execute_result"
    }
   ],
   "source": [
    "np.prod(arr)"
   ]
  },
  {
   "cell_type": "code",
   "execution_count": 43,
   "id": "03ffb9c3",
   "metadata": {},
   "outputs": [
    {
     "data": {
      "text/plain": [
       "0"
      ]
     },
     "execution_count": 43,
     "metadata": {},
     "output_type": "execute_result"
    }
   ],
   "source": [
    "np.mean(arr3)\n",
    "np.argmin(arr3)"
   ]
  },
  {
   "cell_type": "code",
   "execution_count": 50,
   "id": "07915d44",
   "metadata": {},
   "outputs": [
    {
     "data": {
      "text/plain": [
       "array([0, 1, 2, 3, 4, 5, 6, 7, 8, 9])"
      ]
     },
     "execution_count": 50,
     "metadata": {},
     "output_type": "execute_result"
    }
   ],
   "source": [
    "x=arr3.view()\n",
    "x"
   ]
  },
  {
   "cell_type": "code",
   "execution_count": 49,
   "id": "c9450d7c",
   "metadata": {},
   "outputs": [
    {
     "data": {
      "text/plain": [
       "array([0, 1, 2, 3, 4, 5, 6, 7, 8, 9])"
      ]
     },
     "execution_count": 49,
     "metadata": {},
     "output_type": "execute_result"
    }
   ],
   "source": [
    "y=arr3.copy()\n",
    "y"
   ]
  },
  {
   "cell_type": "code",
   "execution_count": 51,
   "id": "c9ae9bb5",
   "metadata": {},
   "outputs": [],
   "source": [
    "x[0]=102"
   ]
  },
  {
   "cell_type": "code",
   "execution_count": 52,
   "id": "e935ea1f",
   "metadata": {},
   "outputs": [
    {
     "data": {
      "text/plain": [
       "array([102,   1,   2,   3,   4,   5,   6,   7,   8,   9])"
      ]
     },
     "execution_count": 52,
     "metadata": {},
     "output_type": "execute_result"
    }
   ],
   "source": [
    "x"
   ]
  },
  {
   "cell_type": "code",
   "execution_count": 53,
   "id": "919a4ac1",
   "metadata": {},
   "outputs": [
    {
     "data": {
      "text/plain": [
       "array([10, 20, 30, 40])"
      ]
     },
     "execution_count": 53,
     "metadata": {},
     "output_type": "execute_result"
    }
   ],
   "source": [
    "np.unique(arr)"
   ]
  },
  {
   "cell_type": "code",
   "execution_count": 54,
   "id": "0e084139",
   "metadata": {},
   "outputs": [
    {
     "data": {
      "text/plain": [
       "array([0, 1, 2, 3, 4, 5, 6, 7, 8, 9])"
      ]
     },
     "execution_count": 54,
     "metadata": {},
     "output_type": "execute_result"
    }
   ],
   "source": [
    "y"
   ]
  },
  {
   "cell_type": "code",
   "execution_count": 55,
   "id": "6f2b8d39",
   "metadata": {},
   "outputs": [
    {
     "data": {
      "text/plain": [
       "array([102,   1,   2,   3,   4,   5,   6,   7,   8,   9])"
      ]
     },
     "execution_count": 55,
     "metadata": {},
     "output_type": "execute_result"
    }
   ],
   "source": [
    "arr3"
   ]
  },
  {
   "cell_type": "code",
   "execution_count": 56,
   "id": "cdb38664",
   "metadata": {},
   "outputs": [
    {
     "data": {
      "text/plain": [
       "16"
      ]
     },
     "execution_count": 56,
     "metadata": {},
     "output_type": "execute_result"
    }
   ],
   "source": [
    "arr.size"
   ]
  },
  {
   "cell_type": "code",
   "execution_count": 57,
   "id": "7edcf29d",
   "metadata": {},
   "outputs": [
    {
     "data": {
      "text/plain": [
       "10"
      ]
     },
     "execution_count": 57,
     "metadata": {},
     "output_type": "execute_result"
    }
   ],
   "source": [
    "arr3.size"
   ]
  },
  {
   "cell_type": "code",
   "execution_count": 59,
   "id": "50419d9c",
   "metadata": {},
   "outputs": [
    {
     "data": {
      "text/plain": [
       "4"
      ]
     },
     "execution_count": 59,
     "metadata": {},
     "output_type": "execute_result"
    }
   ],
   "source": [
    "arr3.itemsize"
   ]
  },
  {
   "cell_type": "code",
   "execution_count": 60,
   "id": "1fa23c40",
   "metadata": {},
   "outputs": [
    {
     "data": {
      "text/plain": [
       "dtype('int32')"
      ]
     },
     "execution_count": 60,
     "metadata": {},
     "output_type": "execute_result"
    }
   ],
   "source": [
    "arr3.dtype"
   ]
  },
  {
   "cell_type": "code",
   "execution_count": 61,
   "id": "caf062ab",
   "metadata": {},
   "outputs": [
    {
     "data": {
      "text/plain": [
       "40"
      ]
     },
     "execution_count": 61,
     "metadata": {},
     "output_type": "execute_result"
    }
   ],
   "source": [
    "arr3.nbytes"
   ]
  },
  {
   "cell_type": "code",
   "execution_count": 63,
   "id": "0d37772d",
   "metadata": {},
   "outputs": [],
   "source": [
    "arr5=np.array([[10,20,30,40],[10,10,20,30],\n",
    "              [10,20,30,40],[10,10,20,30]])"
   ]
  },
  {
   "cell_type": "code",
   "execution_count": 66,
   "id": "cc7777f4",
   "metadata": {},
   "outputs": [
    {
     "data": {
      "text/plain": [
       "array([[10, 20, 30, 40],\n",
       "       [10, 10, 20, 30],\n",
       "       [10, 20, 30, 40],\n",
       "       [10, 10, 20, 30]])"
      ]
     },
     "execution_count": 66,
     "metadata": {},
     "output_type": "execute_result"
    }
   ],
   "source": [
    "arr5"
   ]
  },
  {
   "cell_type": "code",
   "execution_count": 71,
   "id": "72e83fd4",
   "metadata": {},
   "outputs": [
    {
     "data": {
      "text/plain": [
       "array([[0, 0, 0, 0]])"
      ]
     },
     "execution_count": 71,
     "metadata": {},
     "output_type": "execute_result"
    }
   ],
   "source": [
    "arr6=np.zeros((1,4),int)\n",
    "arr6"
   ]
  },
  {
   "cell_type": "code",
   "execution_count": 75,
   "id": "1231db40",
   "metadata": {},
   "outputs": [
    {
     "data": {
      "text/plain": [
       "array([[1., 0., 0., 0., 0.],\n",
       "       [0., 1., 0., 0., 0.],\n",
       "       [0., 0., 1., 0., 0.],\n",
       "       [0., 0., 0., 1., 0.],\n",
       "       [0., 0., 0., 0., 1.]])"
      ]
     },
     "execution_count": 75,
     "metadata": {},
     "output_type": "execute_result"
    }
   ],
   "source": [
    "np.eye(5)"
   ]
  },
  {
   "cell_type": "code",
   "execution_count": 76,
   "id": "4c491bfd",
   "metadata": {},
   "outputs": [],
   "source": [
    "import xml.etree.ElementTree as ET\n",
    "tree=ET.parse(\"E:/Python data/datasets-df-series/cust-data.xml\")"
   ]
  },
  {
   "cell_type": "code",
   "execution_count": 85,
   "id": "9dd98639",
   "metadata": {},
   "outputs": [
    {
     "name": "stdout",
     "output_type": "stream",
     "text": [
      "customers\n",
      "customer\n",
      "customer\n",
      "customer\n",
      "UK\n",
      "15000\n",
      "India\n",
      "25000\n",
      "Canada\n",
      "20000\n"
     ]
    }
   ],
   "source": [
    "root=tree.getroot()\n",
    "print(root.tag)\n",
    "for child in root:\n",
    "    print(child.tag)\n",
    "for c in root.findall('customer'):\n",
    "    b=c.attrib\n",
    "    t=b.get('type')\n",
    "    other=c.find('place').text\n",
    "    print(other)\n",
    "    other1=c.find('amount').text\n",
    "    print(other1)"
   ]
  },
  {
   "cell_type": "code",
   "execution_count": 4,
   "id": "54113db5",
   "metadata": {},
   "outputs": [],
   "source": [
    "import xml.etree.ElemnetTree as ET"
   ]
  },
  {
   "cell_type": "code",
   "execution_count": 14,
   "id": "bd148b66",
   "metadata": {},
   "outputs": [
    {
     "name": "stdout",
     "output_type": "stream",
     "text": [
      "data\n",
      "country\n",
      "country\n",
      "country\n"
     ]
    }
   ],
   "source": [
    "tree1=ET.parse(\"E:\\\\Python data\\\\datasets-df-series\\\\gdp-data.xml\")\n",
    "root=tree1.getroot()\n",
    "print(root.tag)\n",
    "for child in root:\n",
    "    print(child.tag)\n"
   ]
  },
  {
   "cell_type": "code",
   "execution_count": 22,
   "id": "6e76da4e",
   "metadata": {},
   "outputs": [
    {
     "name": "stdout",
     "output_type": "stream",
     "text": [
      "Name: Liechtenstein\n",
      "Rank: 2\n",
      "Year: 2008\n",
      "GDPPC: 141100\n",
      "Name: Singapore\n",
      "Rank: 5\n",
      "Year: 2011\n",
      "GDPPC: 59900\n",
      "Name: Panama\n",
      "Rank: 69\n",
      "Year: 2011\n",
      "GDPPC: 13600\n",
      "Name of neighbor country: Austria\n",
      "Direction of Neighbor country: E\n",
      "Name of neighbor country: Switzerland\n",
      "Direction of Neighbor country: W\n",
      "Name of neighbor country: Malaysia\n",
      "Direction of Neighbor country: N\n",
      "Name of neighbor country: Costa Rica\n",
      "Direction of Neighbor country: W\n",
      "Name of neighbor country: Colombia\n",
      "Direction of Neighbor country: E\n"
     ]
    }
   ],
   "source": [
    "for child1 in root.findall('country'):\n",
    "    a=child1.attrib\n",
    "    t1=a.get('name')\n",
    "    print(\"Name:\",t1)\n",
    "    ob1=child1.find('rank').text\n",
    "    print(\"Rank:\",ob1)\n",
    "    ob2=child1.find('year').text\n",
    "    print(\"Year:\",ob2)\n",
    "    ob=child1.find('gdppc').text\n",
    "    print(\"GDPPC:\",ob)\n",
    "for i1 in root.iter('neighbor'):\n",
    "    b=i1.attrib\n",
    "    t2=b.get('name')\n",
    "    t3=b.get('direction')\n",
    "    print(\"Name of neighbor country:\",t2)\n",
    "    print(\"Direction of Neighbor country:\",t3)\n",
    "        "
   ]
  },
  {
   "cell_type": "code",
   "execution_count": null,
   "id": "f8d53ce8",
   "metadata": {},
   "outputs": [],
   "source": []
  },
  {
   "cell_type": "code",
   "execution_count": null,
   "id": "8a62a1cc",
   "metadata": {},
   "outputs": [],
   "source": []
  }
 ],
 "metadata": {
  "kernelspec": {
   "display_name": "Python 3 (ipykernel)",
   "language": "python",
   "name": "python3"
  },
  "language_info": {
   "codemirror_mode": {
    "name": "ipython",
    "version": 3
   },
   "file_extension": ".py",
   "mimetype": "text/x-python",
   "name": "python",
   "nbconvert_exporter": "python",
   "pygments_lexer": "ipython3",
   "version": "3.9.12"
  }
 },
 "nbformat": 4,
 "nbformat_minor": 5
}
